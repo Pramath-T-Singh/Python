{
 "cells": [
  {
   "cell_type": "code",
   "execution_count": 3,
   "metadata": {},
   "outputs": [
    {
     "name": "stdout",
     "output_type": "stream",
     "text": [
      "You got it!\n",
      "You got it in 1 guesses\n"
     ]
    }
   ],
   "source": [
    "import random\n",
    "\n",
    "topRange = input(\"Type a Number: \")\n",
    "\n",
    "\n",
    "if topRange.isdigit():\n",
    "    topRange = int(topRange)\n",
    "\n",
    "    if topRange <= 0:\n",
    "        print('Please type a Number Larfer than 0 bext time')\n",
    "        quit()\n",
    "else:\n",
    "    print('Please type a number next time.')\n",
    "    quit()\n",
    "\n",
    "randomNum = random.randint(0,topRange)\n",
    "\n",
    "guesses = 0\n",
    "\n",
    "while True:\n",
    "    guesses += 1\n",
    "    userGuess = input(\"Make a guess: \")\n",
    "    if userGuess.isdigit():\n",
    "        userGuess = int(userGuess)\n",
    "    else:\n",
    "        print('Please type a number next time.')\n",
    "        continue\n",
    "\n",
    "    if userGuess == randomNum:\n",
    "        print(\"You got it!\")\n",
    "        break\n",
    "    elif userGuess > randomNum:\n",
    "        print('You were above the number')\n",
    "        continue\n",
    "    else:\n",
    "        print('You were below the number')\n",
    "        continue\n",
    "  \n",
    "\n",
    "print(\"You got it in\", guesses, \"guesses\")"
   ]
  }
 ],
 "metadata": {
  "interpreter": {
   "hash": "eb37903d07feab40917ff946cfc70ec3329f60fc668164fc33efec087703f5ed"
  },
  "kernelspec": {
   "display_name": "Python 3.10.4 64-bit",
   "language": "python",
   "name": "python3"
  },
  "language_info": {
   "codemirror_mode": {
    "name": "ipython",
    "version": 3
   },
   "file_extension": ".py",
   "mimetype": "text/x-python",
   "name": "python",
   "nbconvert_exporter": "python",
   "pygments_lexer": "ipython3",
   "version": "3.10.4"
  },
  "orig_nbformat": 4
 },
 "nbformat": 4,
 "nbformat_minor": 2
}
