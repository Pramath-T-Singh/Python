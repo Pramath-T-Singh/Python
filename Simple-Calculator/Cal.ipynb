{
 "cells": [
  {
   "cell_type": "code",
   "execution_count": 15,
   "metadata": {},
   "outputs": [
    {
     "name": "stdout",
     "output_type": "stream",
     "text": [
      "1 for Addition\n",
      "2 for Subtraction\n",
      "3 for Multiplication\n",
      "4 for Division\n",
      "Please Choose an option of Numbers Given Above Only:\n",
      "26781.0\n"
     ]
    }
   ],
   "source": [
    "print(\"1 for Addition\")\n",
    "print(\"2 for Subtraction\")\n",
    "print(\"3 for Multiplication\")\n",
    "print(\"4 for Division\")\n",
    "\n",
    "options = ['1', '2', '3', '4']\n",
    "\n",
    "choice = input(\"Enter Your Choice: \")\n",
    "\n",
    "\n",
    "if (choice not in options):\n",
    "    print('Please Choose an option of Numbers Given Above Only:')\n",
    "    choice = input(\"Re-Enter Your Correct Choice: \")\n",
    "\n",
    "\n",
    "num1 = float(input(\"Enter Number 1: \"))\n",
    "num2 = float(input(\"Enter Number 2: \"))\n",
    "\n",
    "if choice == '1':\n",
    "    print( num1, \"+\", num2, \"=\", (num1 + num2))\n",
    "elif choice == '2':\n",
    "    print( num1, \"-\", num2, \"=\", (num1 - num2))\n",
    "elif choice == '3':\n",
    "    print( num1, \"*\", num2, \"=\",(num1 * num2))\n",
    "elif choice == '4':\n",
    "    if num2 == 0.0:\n",
    "        print(\"Divide by 0 Error\")\n",
    "    else:\n",
    "        print( num1, \"/\", num2, \"=\",(num1 / num2))        \n",
    "        \n"
   ]
  }
 ],
 "metadata": {
  "interpreter": {
   "hash": "eb37903d07feab40917ff946cfc70ec3329f60fc668164fc33efec087703f5ed"
  },
  "kernelspec": {
   "display_name": "Python 3.10.4 64-bit",
   "language": "python",
   "name": "python3"
  },
  "language_info": {
   "codemirror_mode": {
    "name": "ipython",
    "version": 3
   },
   "file_extension": ".py",
   "mimetype": "text/x-python",
   "name": "python",
   "nbconvert_exporter": "python",
   "pygments_lexer": "ipython3",
   "version": "3.10.4"
  },
  "orig_nbformat": 4
 },
 "nbformat": 4,
 "nbformat_minor": 2
}
