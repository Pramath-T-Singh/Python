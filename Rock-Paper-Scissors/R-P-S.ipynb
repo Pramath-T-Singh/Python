{
 "cells": [
  {
   "cell_type": "code",
   "execution_count": 15,
   "metadata": {},
   "outputs": [
    {
     "name": "stdout",
     "output_type": "stream",
     "text": [
      "Comp Turn: Snake(s) Water(w) or Gun(g)?\n",
      "You Win!\n"
     ]
    }
   ],
   "source": [
    "import random\n",
    "\n",
    "def game(comp, playerInput):\n",
    "    if comp == 'r':\n",
    "        if playerInput == 's':\n",
    "            print('Comp Wins!')\n",
    "        elif playerInput == 'p':\n",
    "            print('You Win!')    \n",
    "    if comp == 'p':\n",
    "        if playerInput == 's':\n",
    "            print('You Win!')\n",
    "        elif playerInput == 'r':\n",
    "            print('Comp Wins!')\n",
    "    if comp == 's':\n",
    "        if playerInput == 'r':\n",
    "            print('You Win!')\n",
    "        elif playerInput == 'p':\n",
    "            print('Comp Wins!')\n",
    "\n",
    "print(\"Comp Turn: Rock(r) Paper(p) or scissors(g)?\")\n",
    "randNo = random.randint(1, 3)\n",
    "\n",
    "if randNo == 1:\n",
    "    comp = 'r'\n",
    "elif randNo == 2:\n",
    "    comp = 'p'\n",
    "elif randNo == 3:\n",
    "    comp = 's'\n",
    "\n",
    "playerInput = input(\"Player's Turn: Rock(r) Paper(p) or scissors(g)?\")\n",
    "\n",
    "game(comp, playerInput)\n",
    "    "
   ]
  }
 ],
 "metadata": {
  "interpreter": {
   "hash": "eb37903d07feab40917ff946cfc70ec3329f60fc668164fc33efec087703f5ed"
  },
  "kernelspec": {
   "display_name": "Python 3.10.4 64-bit",
   "language": "python",
   "name": "python3"
  },
  "language_info": {
   "codemirror_mode": {
    "name": "ipython",
    "version": 3
   },
   "file_extension": ".py",
   "mimetype": "text/x-python",
   "name": "python",
   "nbconvert_exporter": "python",
   "pygments_lexer": "ipython3",
   "version": "3.10.4"
  },
  "orig_nbformat": 4
 },
 "nbformat": 4,
 "nbformat_minor": 2
}
