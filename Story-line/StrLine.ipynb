{
 "cells": [
  {
   "cell_type": "code",
   "execution_count": 1,
   "metadata": {},
   "outputs": [
    {
     "name": "stdout",
     "output_type": "stream",
     "text": [
      "Not a Valid option. You have lost your way.\n",
      "Welcome Pramath to your own Story Board\n",
      "You talk to the stranger and have been enlightened by is life story and have reached peace with yourself. Your Path is now comepleted\n"
     ]
    }
   ],
   "source": [
    "userName = input('Please Enter Your Name: ')\n",
    "lostWay = print('Not a Valid option. You have lost your way.')\n",
    "print('Welcome', userName, 'to your own Story Board')\n",
    "\n",
    "answer = input(\"You are the end of the path and it splits to a left or right, Choose Wisely!\").lower()\n",
    "\n",
    "if answer == \"left\":\n",
    "    answer = input(\"You have come across a river, You can walk around it or swim across? Options: walk or swim\").lower()\n",
    "\n",
    "    if answer == 'swim':\n",
    "        print(\"You swam across and were eaten by an alligator.\")\n",
    "    elif answer == 'walk':\n",
    "        print(\"You walked for many miles, through the harsh forest and slowly ran out of water and lost your path.\")\n",
    "    else:\n",
    "        lostWay\n",
    "elif answer == \"right\":\n",
    "    answer = input('You come to a bridge, it looks wobbly, do you want to cross it? Options: cross or back').lower()\n",
    "\n",
    "    if answer == 'cross':\n",
    "       answer = input(\"After crossing the bridge you meet a stranger. Do you talk to them or ignore them? Options: talk or ignore\").lower()\n",
    "\n",
    "       if answer == 'talk':\n",
    "            print('You talk to the stranger and have been enlightened by is life story and have reached peace with yourself. Your Path is now comepleted')\n",
    "       elif answer == 'ignore':\n",
    "            print(\"You ignore the stranger and they are offended and you lost your path.\")\n",
    "       else:\n",
    "            lostWay    \n",
    "    elif answer == 'back':\n",
    "        print(\"You go back and lost your path.\")\n",
    "    else:\n",
    "        lostWay\n",
    "\n",
    "else:\n",
    "    lostWay\n",
    "\n"
   ]
  }
 ],
 "metadata": {
  "interpreter": {
   "hash": "eb37903d07feab40917ff946cfc70ec3329f60fc668164fc33efec087703f5ed"
  },
  "kernelspec": {
   "display_name": "Python 3.10.4 64-bit",
   "language": "python",
   "name": "python3"
  },
  "language_info": {
   "codemirror_mode": {
    "name": "ipython",
    "version": 3
   },
   "file_extension": ".py",
   "mimetype": "text/x-python",
   "name": "python",
   "nbconvert_exporter": "python",
   "pygments_lexer": "ipython3",
   "version": "3.10.4"
  },
  "orig_nbformat": 4
 },
 "nbformat": 4,
 "nbformat_minor": 2
}
